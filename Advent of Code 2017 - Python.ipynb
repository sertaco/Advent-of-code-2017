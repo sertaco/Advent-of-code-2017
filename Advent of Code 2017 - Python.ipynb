{
 "cells": [
  {
   "cell_type": "code",
   "execution_count": 43,
   "metadata": {
    "collapsed": true
   },
   "outputs": [],
   "source": [
    "import numpy as np"
   ]
  },
  {
   "cell_type": "code",
   "execution_count": 78,
   "metadata": {},
   "outputs": [
    {
     "name": "stdout",
     "output_type": "stream",
     "text": [
      "1203\n",
      "1146\n"
     ]
    }
   ],
   "source": [
    "#Q1.a\n",
    "def soln_1a(inp):\n",
    "    inp = str(inp)\n",
    "    return(sum([int(item) for (i,item) in enumerate(inp) if item == inp[(i+1)%len(inp)]]))\n",
    "\n",
    "f = open('inputs/1a.txt')\n",
    "inp = int(f.read())\n",
    "\n",
    "print(soln_1a(inp))\n",
    "\n",
    "#Q1.b\n",
    "def soln_1b(inp):\n",
    "    inp = str(inp)\n",
    "    step = int(len(inp)/2)\n",
    "    return(sum([int(item) for (i,item) in enumerate(inp) if item == inp[(i+step)%len(inp)]]))\n",
    "\n",
    "print(soln_1b(inp))\n"
   ]
  },
  {
   "cell_type": "code",
   "execution_count": 130,
   "metadata": {},
   "outputs": [
    {
     "name": "stdout",
     "output_type": "stream",
     "text": [
      "36174\n",
      "244\n"
     ]
    }
   ],
   "source": [
    "#Q2.a\n",
    "f = open('inputs/2.txt')\n",
    "diff =[]\n",
    "for line in f:\n",
    "    mylist = line.split()\n",
    "    mylist = [int(item) for item in mylist]\n",
    "    diff.append(max(mylist) - min(mylist))\n",
    "    \n",
    "print(sum(diff))\n",
    "\n",
    "#Q2.b\n",
    "\n",
    "def evenlyDivide(mylist):\n",
    "    mylist.sort()\n",
    "    for i, item in enumerate(mylist):\n",
    "        for j in range(i+1,len(mylist)):\n",
    "            if mylist[j] % item == 0:\n",
    "                return(int(mylist[j]/item))\n",
    "\n",
    "f = open('inputs/2.txt')\n",
    "res_div =[]\n",
    "for line in f:\n",
    "    mylist = line.split()\n",
    "    mylist = [int(item) for item in mylist]\n",
    "    res_div.append(evenlyDivide(mylist))\n",
    "\n",
    "print(sum(res_div))"
   ]
  },
  {
   "cell_type": "code",
   "execution_count": 144,
   "metadata": {},
   "outputs": [
    {
     "name": "stdout",
     "output_type": "stream",
     "text": [
      "419\n",
      "295229\n"
     ]
    }
   ],
   "source": [
    "#Q3.a\n",
    "\n",
    "def find_coordinate(inp):\n",
    "    if inp == 1:\n",
    "        return([0,0])\n",
    "    n = 0 \n",
    "    while inp > (2*n +1)**2:\n",
    "        n += 1\n",
    "\n",
    "    r = (2*n +1)**2 - inp\n",
    "\n",
    "    if r//(2*n) == 0:\n",
    "        return([n-r%(2*n),-n])\n",
    "    elif r//(2*n) == 1:\n",
    "        return([-n,-n+r%(2*n)])\n",
    "    elif r//(2*n) == 2:\n",
    "        return([-n+r%(2*n),n])\n",
    "    else:\n",
    "        return([n,n-r%(2*n)])\n",
    "    \n",
    "\n",
    "f = open('inputs/3.txt')\n",
    "inp = int(f.read())    \n",
    "coord = find_coordinate(inp)\n",
    "\n",
    "print(sum([abs(item) for item in coord]))\n",
    "\n",
    "#Q3.b\n",
    "def neighbors(tpl):\n",
    "    tpl_neighbors = [(tpl[0]-1, tpl[1]-1), (tpl[0], tpl[1]-1), (tpl[0]+1, tpl[1]-1), \n",
    "                     (tpl[0]-1, tpl[1]+1), (tpl[0], tpl[1]+1), (tpl[0]+1, tpl[1]+1), \n",
    "                     (tpl[0]-1, tpl[1]), (tpl[0]+1, tpl[1])]\n",
    "    return(tpl_neighbors)\n",
    "    \n",
    "def find_tpl_value(matrix, tpl):\n",
    "    tpl_value = 0\n",
    "    for item in neighbors(tpl):\n",
    "        if item in matrix:\n",
    "            tpl_value += matrix[item]\n",
    "    return(tpl_value)\n",
    "\n",
    "matrix = {}\n",
    "matrix[(0,0)]=1\n",
    "tpl_value = 1\n",
    "i = 2\n",
    "\n",
    "f = open('inputs/3.txt')\n",
    "inp = int(f.read())  \n",
    "\n",
    "while tpl_value < inp:\n",
    "    tpl = tuple(find_coordinate(i))\n",
    "    tpl_value = find_tpl_value(matrix, tpl)\n",
    "    matrix[tpl] = tpl_value\n",
    "    i += 1\n",
    "    \n",
    "print(tpl_value)"
   ]
  },
  {
   "cell_type": "code",
   "execution_count": 145,
   "metadata": {},
   "outputs": [
    {
     "name": "stdout",
     "output_type": "stream",
     "text": [
      "325\n",
      "119\n"
     ]
    }
   ],
   "source": [
    "#Q4.a\n",
    "f = open('inputs/4.txt')\n",
    "\n",
    "no_valid = 0\n",
    "for line in f:\n",
    "    a = line.strip().split(\" \")\n",
    "    if len(a) == len(set(a)):\n",
    "        no_valid += 1\n",
    "print(no_valid)\n",
    "\n",
    "#Q4.b\n",
    "f = open('inputs/4.txt')\n",
    "\n",
    "no_valid = 0\n",
    "for line in f:\n",
    "    a = line.strip().split(\" \")\n",
    "    b = [tuple(sorted(list(item))) for item in a]\n",
    "    if len(b) == len(set(b)):\n",
    "        no_valid += 1\n",
    "print(no_valid)"
   ]
  },
  {
   "cell_type": "code",
   "execution_count": null,
   "metadata": {
    "collapsed": true
   },
   "outputs": [],
   "source": []
  }
 ],
 "metadata": {
  "kernelspec": {
   "display_name": "Python 3",
   "language": "python",
   "name": "python3"
  },
  "language_info": {
   "codemirror_mode": {
    "name": "ipython",
    "version": 3
   },
   "file_extension": ".py",
   "mimetype": "text/x-python",
   "name": "python",
   "nbconvert_exporter": "python",
   "pygments_lexer": "ipython3",
   "version": "3.6.1"
  }
 },
 "nbformat": 4,
 "nbformat_minor": 2
}
