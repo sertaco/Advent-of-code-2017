{
 "cells": [
  {
   "cell_type": "code",
   "execution_count": 3,
   "metadata": {
    "collapsed": false,
    "deletable": true,
    "editable": true
   },
   "outputs": [],
   "source": [
    "import numpy as np\n",
    "import copy\n"
   ]
  },
  {
   "cell_type": "code",
   "execution_count": 4,
   "metadata": {
    "collapsed": false,
    "deletable": true,
    "editable": true
   },
   "outputs": [
    {
     "name": "stdout",
     "output_type": "stream",
     "text": [
      "1203\n",
      "1146\n"
     ]
    }
   ],
   "source": [
    "#Q1.a\n",
    "def soln_1a(inp):\n",
    "    inp = str(inp)\n",
    "    return(sum([int(item) for (i,item) in enumerate(inp) if item == inp[(i+1)%len(inp)]]))\n",
    "\n",
    "f = open('inputs/1a.txt')\n",
    "inp = int(f.read())\n",
    "\n",
    "print(soln_1a(inp))\n",
    "\n",
    "#Q1.b\n",
    "def soln_1b(inp):\n",
    "    inp = str(inp)\n",
    "    step = int(len(inp)/2)\n",
    "    return(sum([int(item) for (i,item) in enumerate(inp) if item == inp[(i+step)%len(inp)]]))\n",
    "\n",
    "print(soln_1b(inp))\n"
   ]
  },
  {
   "cell_type": "code",
   "execution_count": 5,
   "metadata": {
    "collapsed": false,
    "deletable": true,
    "editable": true
   },
   "outputs": [
    {
     "name": "stdout",
     "output_type": "stream",
     "text": [
      "36174\n",
      "244\n"
     ]
    }
   ],
   "source": [
    "#Q2.a\n",
    "f = open('inputs/2.txt')\n",
    "diff =[]\n",
    "for line in f:\n",
    "    mylist = line.split()\n",
    "    mylist = [int(item) for item in mylist]\n",
    "    diff.append(max(mylist) - min(mylist))\n",
    "    \n",
    "print(sum(diff))\n",
    "\n",
    "#Q2.b\n",
    "\n",
    "def evenlyDivide(mylist):\n",
    "    mylist.sort()\n",
    "    for i, item in enumerate(mylist):\n",
    "        for j in range(i+1,len(mylist)):\n",
    "            if mylist[j] % item == 0:\n",
    "                return(int(mylist[j]/item))\n",
    "\n",
    "f = open('inputs/2.txt')\n",
    "res_div =[]\n",
    "for line in f:\n",
    "    mylist = line.split()\n",
    "    mylist = [int(item) for item in mylist]\n",
    "    res_div.append(evenlyDivide(mylist))\n",
    "\n",
    "print(sum(res_div))"
   ]
  },
  {
   "cell_type": "code",
   "execution_count": 144,
   "metadata": {
    "collapsed": false,
    "deletable": true,
    "editable": true
   },
   "outputs": [
    {
     "name": "stdout",
     "output_type": "stream",
     "text": [
      "419\n",
      "295229\n"
     ]
    }
   ],
   "source": [
    "#Q3.a\n",
    "\n",
    "def find_coordinate(inp):\n",
    "    if inp == 1:\n",
    "        return([0,0])\n",
    "    n = 0 \n",
    "    while inp > (2*n +1)**2:\n",
    "        n += 1\n",
    "\n",
    "    r = (2*n +1)**2 - inp\n",
    "\n",
    "    if r//(2*n) == 0:\n",
    "        return([n-r%(2*n),-n])\n",
    "    elif r//(2*n) == 1:\n",
    "        return([-n,-n+r%(2*n)])\n",
    "    elif r//(2*n) == 2:\n",
    "        return([-n+r%(2*n),n])\n",
    "    else:\n",
    "        return([n,n-r%(2*n)])\n",
    "    \n",
    "\n",
    "f = open('inputs/3.txt')\n",
    "inp = int(f.read())    \n",
    "coord = find_coordinate(inp)\n",
    "\n",
    "print(sum([abs(item) for item in coord]))\n",
    "\n",
    "#Q3.b\n",
    "def neighbors(tpl):\n",
    "    tpl_neighbors = [(tpl[0]-1, tpl[1]-1), (tpl[0], tpl[1]-1), (tpl[0]+1, tpl[1]-1), \n",
    "                     (tpl[0]-1, tpl[1]+1), (tpl[0], tpl[1]+1), (tpl[0]+1, tpl[1]+1), \n",
    "                     (tpl[0]-1, tpl[1]), (tpl[0]+1, tpl[1])]\n",
    "    return(tpl_neighbors)\n",
    "    \n",
    "def find_tpl_value(matrix, tpl):\n",
    "    tpl_value = 0\n",
    "    for item in neighbors(tpl):\n",
    "        if item in matrix:\n",
    "            tpl_value += matrix[item]\n",
    "    return(tpl_value)\n",
    "\n",
    "matrix = {}\n",
    "matrix[(0,0)]=1\n",
    "tpl_value = 1\n",
    "i = 2\n",
    "\n",
    "f = open('inputs/3.txt')\n",
    "inp = int(f.read())  \n",
    "\n",
    "while tpl_value < inp:\n",
    "    tpl = tuple(find_coordinate(i))\n",
    "    tpl_value = find_tpl_value(matrix, tpl)\n",
    "    matrix[tpl] = tpl_value\n",
    "    i += 1\n",
    "    \n",
    "print(tpl_value)"
   ]
  },
  {
   "cell_type": "code",
   "execution_count": 145,
   "metadata": {
    "collapsed": false,
    "deletable": true,
    "editable": true
   },
   "outputs": [
    {
     "name": "stdout",
     "output_type": "stream",
     "text": [
      "325\n",
      "119\n"
     ]
    }
   ],
   "source": [
    "#Q4.a\n",
    "f = open('inputs/4.txt')\n",
    "\n",
    "no_valid = 0\n",
    "for line in f:\n",
    "    a = line.strip().split(\" \")\n",
    "    if len(a) == len(set(a)):\n",
    "        no_valid += 1\n",
    "print(no_valid)\n",
    "\n",
    "#Q4.b\n",
    "f = open('inputs/4.txt')\n",
    "\n",
    "no_valid = 0\n",
    "for line in f:\n",
    "    a = line.strip().split(\" \")\n",
    "    b = [tuple(sorted(list(item))) for item in a]\n",
    "    if len(b) == len(set(b)):\n",
    "        no_valid += 1\n",
    "print(no_valid)"
   ]
  },
  {
   "cell_type": "code",
   "execution_count": 167,
   "metadata": {
    "collapsed": false,
    "deletable": true,
    "editable": true
   },
   "outputs": [
    {
     "name": "stdout",
     "output_type": "stream",
     "text": [
      "343467\n",
      "24774780\n"
     ]
    }
   ],
   "source": [
    "#Q5.a\n",
    "f = open('inputs/5.txt')\n",
    "inp = f.read()\n",
    "inp = inp.split('\\n')\n",
    "inp = [int(item) for item in inp]\n",
    "\n",
    "cursor = 0\n",
    "steps = 0\n",
    "end = len(inp)\n",
    "\n",
    "while cursor < end:\n",
    "    steps += 1\n",
    "    inp[cursor] += 1\n",
    "    cursor += inp[cursor] -1\n",
    "    \n",
    "print(steps)\n",
    "\n",
    "#Q5.b\n",
    "f = open('inputs/5.txt')\n",
    "inp = f.read()\n",
    "inp = inp.split('\\n')\n",
    "inp = [int(item) for item in inp]\n",
    "\n",
    "cursor = 0\n",
    "steps = 0\n",
    "end = len(inp)\n",
    "\n",
    "while cursor < end:\n",
    "    steps += 1\n",
    "    dummy = inp[cursor]\n",
    "    if inp[cursor] > 2:\n",
    "        inp[cursor] -= 1\n",
    "    else:\n",
    "        inp[cursor] += 1\n",
    "    cursor += dummy\n",
    "    \n",
    "print(steps)"
   ]
  },
  {
   "cell_type": "code",
   "execution_count": 241,
   "metadata": {
    "collapsed": false,
    "deletable": true,
    "editable": true
   },
   "outputs": [
    {
     "name": "stdout",
     "output_type": "stream",
     "text": [
      "6681\n",
      "2392\n"
     ]
    }
   ],
   "source": [
    "#Q6.a\n",
    "\n",
    "def find_steps(inp):\n",
    "\n",
    "    inp_dict = {} \n",
    "    steps = 0\n",
    "    length = len(inp)\n",
    "\n",
    "    while (tuple(inp) not in inp_dict) or (steps == 0):\n",
    "        inp_dict[tuple(inp)] = steps\n",
    "        steps += 1\n",
    "        value_max = max(inp)\n",
    "        ind_max = np.argmax(inp)\n",
    "        inp[ind_max] = 0\n",
    "\n",
    "        inp = [item + value_max//length for item in inp]\n",
    "\n",
    "        i = ind_max\n",
    "        j = value_max%length\n",
    "        while j > 0:\n",
    "            inp[(i+1)%length] += 1\n",
    "            i += 1\n",
    "            j -=1\n",
    "    return(steps, inp_dict[tuple(inp)])\n",
    "\n",
    "\n",
    "f = open('inputs/6.txt')\n",
    "inp = f.read()\n",
    "inp = inp.split('\\t')\n",
    "inp = [int(item) for item in inp]\n",
    "\n",
    "print(find_steps(inp)[0])\n",
    "\n",
    "#Q6.b\n",
    "f = open('inputs/6.txt')\n",
    "inp = f.read()\n",
    "inp = inp.split('\\t')\n",
    "inp = [int(item) for item in inp]\n",
    "\n",
    "(a,b) = find_steps(inp)\n",
    "print(a-b)\n",
    "\n",
    "\n"
   ]
  },
  {
   "cell_type": "code",
   "execution_count": 381,
   "metadata": {
    "collapsed": false,
    "deletable": true,
    "editable": true
   },
   "outputs": [
    {
     "name": "stdout",
     "output_type": "stream",
     "text": [
      "mwzaxaj\n",
      "ljaktj\n",
      "['seeqikh', 'mqrfbqc', 'ihnus']\n",
      "[15153, 15153, 15160]\n",
      "[10944, 9769, 40]\n",
      "ihnus\n",
      "['vrgxe', 'shnqfh', 'auzded', 'hkhsc', 'jwddn', 'mcxki', 'lhwyt']\n",
      "[2166, 2159, 2159, 2159, 2159, 2159, 2159]\n",
      "[1226, 1649, 499, 171, 134, 29, 287]\n",
      "mwzaxaj\n",
      "['csybv', 'febjzqn', 'bltmlm', 'dfyyjta', 'ljaktj', 'vmyda', 'vbcfe']\n",
      "[67398, 67398, 67398, 67398, 67405, 67398, 67398]\n",
      "[33546, 46461, 93, 33822, 21939, 63912, 49938]\n"
     ]
    }
   ],
   "source": [
    "#Q7.a\n",
    "f = open('inputs/7.txt')\n",
    "\n",
    "prog_dict = {}\n",
    "weight_dict = {}\n",
    "\n",
    "for line in f:\n",
    "    a = line.strip().split(\" -> \")\n",
    "    weight_dict[a[0].split(' ')[0]] = int(a[0].split(' ')[1][1:-1])\n",
    "    \n",
    "\n",
    "f = open('inputs/7.txt')\n",
    "for line in f:\n",
    "    a = line.strip().split(\" -> \")\n",
    "    if len(a)>1:\n",
    "        for prog in a[1].split(', '):\n",
    "            prog_dict[(prog, weight_dict[prog])] = (a[0].split(' ')[0], weight_dict[a[0].split(' ')[0]])\n",
    "\n",
    "\n",
    "prog = line.strip().split(\" -> \")[0].split(' ')[0]            \n",
    "while (prog, weight_dict[prog]) in prog_dict:\n",
    "    prog = prog_dict[(prog,weight_dict[prog])][0]\n",
    "print(prog)\n",
    "\n",
    "#Q7.b\n",
    "weight_dict_final = copy.deepcopy(weight_dict)\n",
    "\n",
    "for item in weight_dict:\n",
    "    original_item = item\n",
    "    while (item, weight_dict[item]) in prog_dict:\n",
    "        parent = prog_dict[(item, weight_dict[item])]\n",
    "        weight_dict_final[parent[0]] += weight_dict[original_item]\n",
    "        item = parent[0]\n",
    "\n",
    "        \n",
    "for prog in weight_dict_final:\n",
    "    child_weights = [ weight_dict_final[item[0]] for item in prog_dict if prog_dict[item][0] == prog]\n",
    "    \n",
    "    if len(set(child_weights))>1:\n",
    "        print(prog)\n",
    "        print([ item[0] for item in prog_dict if prog_dict[item][0] == prog])\n",
    "        print(child_weights)\n",
    "        print([ weight_dict[item[0]] for item in prog_dict if prog_dict[item][0] == prog])\n",
    "\n"
   ]
  },
  {
   "cell_type": "code",
   "execution_count": 52,
   "metadata": {
    "collapsed": false
   },
   "outputs": [
    {
     "name": "stdout",
     "output_type": "stream",
     "text": [
      "4066\n",
      "4829\n"
     ]
    }
   ],
   "source": [
    "#Q8.a\n",
    "regs = {}\n",
    "max_value = []\n",
    "\n",
    "gt = lambda (x,y): x > y\n",
    "lt = lambda (x,y): x < y\n",
    "ge = lambda (x,y): x >= y\n",
    "le = lambda (x,y): x <= y\n",
    "eq = lambda (x,y): x == y\n",
    "ne = lambda (x,y): x != y\n",
    "ops= {'>':gt, '<':lt, '>=':ge, '<=': le, '==':eq, '!=': ne }\n",
    "\n",
    "inc = lambda (x,y): x + y\n",
    "dec = lambda (x,y): x - y\n",
    "acts = {'inc':inc, 'dec': dec }\n",
    "\n",
    "\n",
    "f = open('inputs/8.txt')\n",
    "for line in f:    \n",
    "    line = line.strip().split(' ')\n",
    "\n",
    "    if line[0] not in regs:\n",
    "        regs[line[0]] = 0\n",
    "    if line[4] not in regs:\n",
    "        regs[line[4]] = 0\n",
    "    if ops[line[5]]([regs[line[4]], int(line[6])]):\n",
    "        regs[line[0]] = acts[line[1]]([regs[line[0]], int(line[2])])\n",
    "        \n",
    "    max_value.append(max([regs[item] for item in regs]))\n",
    "        \n",
    "print(max_value[-1])\n",
    "\n",
    "#Q8.b\n",
    "\n",
    "print(max(max_value))"
   ]
  },
  {
   "cell_type": "code",
   "execution_count": 41,
   "metadata": {
    "collapsed": false
   },
   "outputs": [
    {
     "data": {
      "text/plain": [
       "5"
      ]
     },
     "execution_count": 41,
     "metadata": {},
     "output_type": "execute_result"
    }
   ],
   "source": [
    "inc = lambda (x,y): x + y\n",
    "dec = lambda (x,y): x - y\n",
    "acts = {'inc':inc, 'dec': dec }\n",
    "acts[line[1]]([2,3])"
   ]
  },
  {
   "cell_type": "code",
   "execution_count": 40,
   "metadata": {
    "collapsed": false
   },
   "outputs": [
    {
     "data": {
      "text/plain": [
       "'inc'"
      ]
     },
     "execution_count": 40,
     "metadata": {},
     "output_type": "execute_result"
    }
   ],
   "source": [
    "line[1]"
   ]
  },
  {
   "cell_type": "code",
   "execution_count": 19,
   "metadata": {
    "collapsed": false
   },
   "outputs": [
    {
     "data": {
      "text/plain": [
       "True"
      ]
     },
     "execution_count": 19,
     "metadata": {},
     "output_type": "execute_result"
    }
   ],
   "source": [
    "gt([3,2])"
   ]
  }
 ],
 "metadata": {
  "kernelspec": {
   "display_name": "Python 2",
   "language": "python",
   "name": "python2"
  },
  "language_info": {
   "codemirror_mode": {
    "name": "ipython",
    "version": 2
   },
   "file_extension": ".py",
   "mimetype": "text/x-python",
   "name": "python",
   "nbconvert_exporter": "python",
   "pygments_lexer": "ipython2",
   "version": "2.7.13"
  }
 },
 "nbformat": 4,
 "nbformat_minor": 2
}
