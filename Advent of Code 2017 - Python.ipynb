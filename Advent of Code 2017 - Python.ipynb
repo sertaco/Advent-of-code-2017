{
 "cells": [
  {
   "cell_type": "code",
   "execution_count": 43,
   "metadata": {
    "collapsed": true
   },
   "outputs": [],
   "source": [
    "import numpy as np\n",
    "import requests"
   ]
  },
  {
   "cell_type": "code",
   "execution_count": 78,
   "metadata": {},
   "outputs": [
    {
     "name": "stdout",
     "output_type": "stream",
     "text": [
      "1203\n",
      "1146\n"
     ]
    }
   ],
   "source": [
    "#Q1.a\n",
    "def soln_1a(inp):\n",
    "    inp = str(inp)\n",
    "    return(sum([int(item) for (i,item) in enumerate(inp) if item == inp[(i+1)%len(inp)]]))\n",
    "\n",
    "f = open('inputs/1a.txt')\n",
    "inp = int(f.read())\n",
    "\n",
    "print(soln_1a(inp))\n",
    "\n",
    "#Q1.b\n",
    "def soln_1b(inp):\n",
    "    inp = str(inp)\n",
    "    step = int(len(inp)/2)\n",
    "    return(sum([int(item) for (i,item) in enumerate(inp) if item == inp[(i+step)%len(inp)]]))\n",
    "\n",
    "print(soln_1b(inp))\n"
   ]
  },
  {
   "cell_type": "code",
   "execution_count": 130,
   "metadata": {},
   "outputs": [
    {
     "name": "stdout",
     "output_type": "stream",
     "text": [
      "36174\n",
      "244\n"
     ]
    }
   ],
   "source": [
    "#Q2.a\n",
    "f = open('inputs/2.txt')\n",
    "diff =[]\n",
    "for line in f:\n",
    "    mylist = line.split()\n",
    "    mylist = [int(item) for item in mylist]\n",
    "    diff.append(max(mylist) - min(mylist))\n",
    "    \n",
    "print(sum(diff))\n",
    "\n",
    "#Q2.b\n",
    "\n",
    "def evenlyDivide(mylist):\n",
    "    mylist.sort()\n",
    "    for i, item in enumerate(mylist):\n",
    "        for j in range(i+1,len(mylist)):\n",
    "            if mylist[j] % item == 0:\n",
    "                return(int(mylist[j]/item))\n",
    "\n",
    "f = open('inputs/2.txt')\n",
    "res_div =[]\n",
    "for line in f:\n",
    "    mylist = line.split()\n",
    "    mylist = [int(item) for item in mylist]\n",
    "    res_div.append(evenlyDivide(mylist))\n",
    "\n",
    "print(sum(res_div))"
   ]
  },
  {
   "cell_type": "code",
   "execution_count": 131,
   "metadata": {
    "collapsed": true
   },
   "outputs": [],
   "source": [
    "#Q3.a"
   ]
  }
 ],
 "metadata": {
  "kernelspec": {
   "display_name": "Python 3",
   "language": "python",
   "name": "python3"
  },
  "language_info": {
   "codemirror_mode": {
    "name": "ipython",
    "version": 3
   },
   "file_extension": ".py",
   "mimetype": "text/x-python",
   "name": "python",
   "nbconvert_exporter": "python",
   "pygments_lexer": "ipython3",
   "version": "3.6.1"
  }
 },
 "nbformat": 4,
 "nbformat_minor": 2
}
